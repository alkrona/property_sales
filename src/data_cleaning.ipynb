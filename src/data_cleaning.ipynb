{
 "cells": [
  {
   "cell_type": "code",
   "execution_count": 11,
   "metadata": {},
   "outputs": [],
   "source": [
    "import dask\n",
    "import pandas as pd"
   ]
  },
  {
   "cell_type": "code",
   "execution_count": 2,
   "metadata": {},
   "outputs": [],
   "source": [
    "df = pd.read_csv(\"../data/property_data/2022_property_data.csv\")"
   ]
  },
  {
   "cell_type": "code",
   "execution_count": 19,
   "metadata": {},
   "outputs": [],
   "source": [
    "df = df[['settlement_date','purchase_price','post_code']]"
   ]
  },
  {
   "cell_type": "code",
   "execution_count": 16,
   "metadata": {},
   "outputs": [
    {
     "data": {
      "text/plain": [
       "settlement_date    0\n",
       "purchase_price     0\n",
       "post_code          0\n",
       "dtype: int64"
      ]
     },
     "execution_count": 16,
     "metadata": {},
     "output_type": "execute_result"
    }
   ],
   "source": [
    "df_n.isna().sum()"
   ]
  },
  {
   "cell_type": "code",
   "execution_count": null,
   "metadata": {},
   "outputs": [
    {
     "ename": "TypeError",
     "evalue": "'int' object is not callable",
     "output_type": "error",
     "traceback": [
      "\u001b[0;31m---------------------------------------------------------------------------\u001b[0m",
      "\u001b[0;31mTypeError\u001b[0m                                 Traceback (most recent call last)",
      "Cell \u001b[0;32mIn[18], line 1\u001b[0m\n\u001b[0;32m----> 1\u001b[0m \u001b[43mdf_n\u001b[49m\u001b[38;5;241;43m.\u001b[39;49m\u001b[43msize\u001b[49m\u001b[43m(\u001b[49m\u001b[43m)\u001b[49m\n",
      "\u001b[0;31mTypeError\u001b[0m: 'int' object is not callable"
     ]
    }
   ],
   "source": []
  },
  {
   "cell_type": "code",
   "execution_count": 5,
   "metadata": {},
   "outputs": [],
   "source": [
    "# removing rows without postcodes\n",
    "df= df[df[\"post_code\"].notna()]"
   ]
  },
  {
   "cell_type": "code",
   "execution_count": 6,
   "metadata": {},
   "outputs": [],
   "source": [
    "# add year and month\n",
    "df[\"settlement_date\"]=pd.to_datetime(df[\"settlement_date\"])\n",
    "df[\"year\"]=df[\"settlement_date\"].dt.year\n",
    "df[\"month\"]=df[\"settlement_date\"].dt.month"
   ]
  },
  {
   "cell_type": "code",
   "execution_count": 22,
   "metadata": {},
   "outputs": [],
   "source": [
    "def global_data_cleaning(df,year):\n",
    "    if year>=2002:\n",
    "        df = df[['contract_date','purchase_price','post_code']]\n",
    "        df= df[df[\"contract_date\"].notna()]\n",
    "        df= df[df[\"post_code\"].notna()]\n",
    "        df= df[df[\"purchase_price\"].notna()]\n",
    "        df[\"contract_date\"]=pd.to_datetime(df[\"contract_date\"])\n",
    "        df[\"year\"]=year\n",
    "        df[\"month\"]=df[\"contract_date\"].dt.month\n",
    "    else:\n",
    "        df = df[['contract_date','purchase_price','postcode']]\n",
    "        df= df[df[\"contract_date\"].notna()]\n",
    "        df= df[df[\"postcode\"].notna()]\n",
    "        df= df[df[\"purchase_price\"].notna()]\n",
    "        df[\"post_code\"]=df[\"postcode\"]\n",
    "        df.drop(axis=1,columns=[\"postcode\"],inplace=True)\n",
    "        df[\"contract_date\"]=pd.to_datetime(df[\"contract_date\"])\n",
    "        df[\"year\"]=year\n",
    "        df[\"month\"]=df[\"contract_date\"].dt.month\n",
    "    return df"
   ]
  },
  {
   "cell_type": "code",
   "execution_count": 21,
   "metadata": {},
   "outputs": [],
   "source": [
    "def combile_dfs(df_paths):\n",
    "    all_df =[]\n",
    "    for df_path in df_paths:\n",
    "        print(df_path)\n",
    "        year = int(extract_between(df_path)[0])\n",
    "        print(year)\n",
    "        df = pd.read_csv(df_path)\n",
    "        df = global_data_cleaning(df,year)\n",
    "        all_df.append(df)\n",
    "    full_df = pd.concat(all_df,ignore_index=True)\n",
    "    full_df.to_csv(\"full_data.csv\")\n"
   ]
  },
  {
   "cell_type": "code",
   "execution_count": 23,
   "metadata": {},
   "outputs": [
    {
     "name": "stdout",
     "output_type": "stream",
     "text": [
      "../data/property_data/2005_property_data.csv\n",
      "2005\n",
      "../data/property_data/1995_property_data.csv\n",
      "1995\n"
     ]
    },
    {
     "name": "stderr",
     "output_type": "stream",
     "text": [
      "/var/folders/74/9tpvyg253_d1_06tsh3c83900000gn/T/ipykernel_9848/3187937022.py:7: DtypeWarning: Columns (5) have mixed types. Specify dtype option on import or set low_memory=False.\n",
      "  df = pd.read_csv(df_path)\n"
     ]
    },
    {
     "name": "stdout",
     "output_type": "stream",
     "text": [
      "../data/property_data/2019_property_data.csv\n",
      "2019\n"
     ]
    },
    {
     "name": "stderr",
     "output_type": "stream",
     "text": [
      "/var/folders/74/9tpvyg253_d1_06tsh3c83900000gn/T/ipykernel_9848/3187937022.py:7: DtypeWarning: Columns (6,21) have mixed types. Specify dtype option on import or set low_memory=False.\n",
      "  df = pd.read_csv(df_path)\n"
     ]
    },
    {
     "name": "stdout",
     "output_type": "stream",
     "text": [
      "../data/property_data/2000_property_data.csv\n",
      "2000\n"
     ]
    },
    {
     "name": "stderr",
     "output_type": "stream",
     "text": [
      "/var/folders/74/9tpvyg253_d1_06tsh3c83900000gn/T/ipykernel_9848/3187937022.py:7: DtypeWarning: Columns (5) have mixed types. Specify dtype option on import or set low_memory=False.\n",
      "  df = pd.read_csv(df_path)\n"
     ]
    },
    {
     "name": "stdout",
     "output_type": "stream",
     "text": [
      "../data/property_data/1990_property_data.csv\n",
      "1990\n",
      "../data/property_data/2004_property_data.csv\n",
      "2004\n",
      "../data/property_data/1994_property_data.csv\n",
      "1994\n",
      "../data/property_data/2018_property_data.csv\n",
      "2018\n"
     ]
    },
    {
     "name": "stderr",
     "output_type": "stream",
     "text": [
      "/var/folders/74/9tpvyg253_d1_06tsh3c83900000gn/T/ipykernel_9848/3187937022.py:7: DtypeWarning: Columns (5) have mixed types. Specify dtype option on import or set low_memory=False.\n",
      "  df = pd.read_csv(df_path)\n"
     ]
    },
    {
     "name": "stdout",
     "output_type": "stream",
     "text": [
      "../data/property_data/2001_property_data.csv\n",
      "2001\n",
      "../data/property_data/1991_property_data.csv\n",
      "1991\n",
      "../data/property_data/2007_property_data.csv\n",
      "2007\n",
      "../data/property_data/1997_property_data.csv\n",
      "1997\n"
     ]
    },
    {
     "name": "stderr",
     "output_type": "stream",
     "text": [
      "/var/folders/74/9tpvyg253_d1_06tsh3c83900000gn/T/ipykernel_9848/3187937022.py:7: DtypeWarning: Columns (5,6,7,8) have mixed types. Specify dtype option on import or set low_memory=False.\n",
      "  df = pd.read_csv(df_path)\n"
     ]
    },
    {
     "name": "stdout",
     "output_type": "stream",
     "text": [
      "../data/property_data/2002_property_data.csv\n",
      "2002\n"
     ]
    },
    {
     "name": "stderr",
     "output_type": "stream",
     "text": [
      "/var/folders/74/9tpvyg253_d1_06tsh3c83900000gn/T/ipykernel_9848/3187937022.py:7: DtypeWarning: Columns (6,23) have mixed types. Specify dtype option on import or set low_memory=False.\n",
      "  df = pd.read_csv(df_path)\n"
     ]
    },
    {
     "name": "stdout",
     "output_type": "stream",
     "text": [
      "../data/property_data/1992_property_data.csv\n",
      "1992\n",
      "../data/property_data/2006_property_data.csv\n",
      "2006\n",
      "../data/property_data/1996_property_data.csv\n",
      "1996\n"
     ]
    },
    {
     "name": "stderr",
     "output_type": "stream",
     "text": [
      "/var/folders/74/9tpvyg253_d1_06tsh3c83900000gn/T/ipykernel_9848/3187937022.py:7: DtypeWarning: Columns (5,16) have mixed types. Specify dtype option on import or set low_memory=False.\n",
      "  df = pd.read_csv(df_path)\n"
     ]
    },
    {
     "name": "stdout",
     "output_type": "stream",
     "text": [
      "../data/property_data/2003_property_data.csv\n",
      "2003\n",
      "../data/property_data/1993_property_data.csv\n",
      "1993\n",
      "../data/property_data/2022_property_data.csv\n",
      "2022\n",
      "../data/property_data/2016_property_data.csv\n",
      "2016\n",
      "../data/property_data/2013_property_data.csv\n",
      "2013\n",
      "../data/property_data/2023_property_data.csv\n",
      "2023\n",
      "../data/property_data/2017_property_data.csv\n",
      "2017\n",
      "../data/property_data/2012_property_data.csv\n",
      "2012\n",
      "../data/property_data/2020_property_data.csv\n",
      "2020\n",
      "../data/property_data/2008_property_data.csv\n",
      "2008\n",
      "../data/property_data/2014_property_data.csv\n",
      "2014\n",
      "../data/property_data/1998_property_data.csv\n",
      "1998\n"
     ]
    },
    {
     "name": "stderr",
     "output_type": "stream",
     "text": [
      "/var/folders/74/9tpvyg253_d1_06tsh3c83900000gn/T/ipykernel_9848/3187937022.py:7: DtypeWarning: Columns (5) have mixed types. Specify dtype option on import or set low_memory=False.\n",
      "  df = pd.read_csv(df_path)\n"
     ]
    },
    {
     "name": "stdout",
     "output_type": "stream",
     "text": [
      "../data/property_data/2011_property_data.csv\n",
      "2011\n",
      "../data/property_data/2021_property_data.csv\n",
      "2021\n",
      "../data/property_data/2009_property_data.csv\n",
      "2009\n",
      "../data/property_data/2015_property_data.csv\n",
      "2015\n",
      "../data/property_data/1999_property_data.csv\n",
      "1999\n"
     ]
    },
    {
     "name": "stderr",
     "output_type": "stream",
     "text": [
      "/var/folders/74/9tpvyg253_d1_06tsh3c83900000gn/T/ipykernel_9848/3187937022.py:7: DtypeWarning: Columns (5) have mixed types. Specify dtype option on import or set low_memory=False.\n",
      "  df = pd.read_csv(df_path)\n"
     ]
    },
    {
     "name": "stdout",
     "output_type": "stream",
     "text": [
      "../data/property_data/2010_property_data.csv\n",
      "2010\n"
     ]
    }
   ],
   "source": [
    "import os\n",
    "csv_files = os.listdir(\"../data/property_data\")\n",
    "csv_files = [os.path.join(\"../data/property_data\",f) for f in csv_files]\n",
    "combile_dfs(csv_files)"
   ]
  },
  {
   "cell_type": "code",
   "execution_count": null,
   "metadata": {},
   "outputs": [
    {
     "name": "stdout",
     "output_type": "stream",
     "text": [
      "1990\n",
      "Empty DataFrame\n",
      "Columns: [contract_date, purchase_price, post_code, year, month]\n",
      "Index: []\n"
     ]
    }
   ],
   "source": [
    "path = \"../data/property_data/1990_property_data.csv\"\n",
    "year = int(extract_between(path)[0])\n",
    "print(year)\n",
    "df = pd.read_csv(path)\n",
    "print(df.head())\n",
    "df = df[['contract_date','purchase_price','postcode']]\n",
    "\n",
    "df= df[df[\"contract_date\"].notna()]\n",
    "df= df[df[\"postcode\"].notna()]\n",
    "df= df[df[\"purchase_price\"].notna()]\n",
    "df[\"post_code\"]=df[\"postcode\"]\n",
    "df.drop(axis=1,columns=[\"postcode\"],inplace=True)\n",
    "df[\"contract_date\"]=pd.to_datetime(df[\"contract_date\"])\n",
    "df[\"year\"]=year\n",
    "df[\"month\"]=df[\"contract_date\"].dt.month\n",
    "#print(df.head())"
   ]
  },
  {
   "cell_type": "code",
   "execution_count": 4,
   "metadata": {},
   "outputs": [
    {
     "name": "stdout",
     "output_type": "stream",
     "text": [
      "['1990']\n"
     ]
    }
   ],
   "source": [
    "def extract_between(text):\n",
    "    # Find content between / and _\n",
    "    import re\n",
    "    matches = re.findall(r'.*/([^/_]*)_', text)\n",
    "    return matches if matches else []\n",
    "print(extract_between(\"data/property_data/1990_property_data.csv\"))"
   ]
  }
 ],
 "metadata": {
  "kernelspec": {
   "display_name": "venv",
   "language": "python",
   "name": "python3"
  },
  "language_info": {
   "codemirror_mode": {
    "name": "ipython",
    "version": 3
   },
   "file_extension": ".py",
   "mimetype": "text/x-python",
   "name": "python",
   "nbconvert_exporter": "python",
   "pygments_lexer": "ipython3",
   "version": "3.10.15"
  }
 },
 "nbformat": 4,
 "nbformat_minor": 2
}
