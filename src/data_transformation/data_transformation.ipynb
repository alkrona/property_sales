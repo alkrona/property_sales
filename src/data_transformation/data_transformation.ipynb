{
 "cells": [
  {
   "cell_type": "code",
   "execution_count": 1,
   "metadata": {},
   "outputs": [],
   "source": [
    "import pandas as pd"
   ]
  },
  {
   "cell_type": "markdown",
   "metadata": {},
   "source": [
    "## Dates of various csvs are completely wrong so changing them here\n"
   ]
  },
  {
   "cell_type": "code",
   "execution_count": 20,
   "metadata": {},
   "outputs": [
    {
     "data": {
      "text/html": [
       "<div>\n",
       "<style scoped>\n",
       "    .dataframe tbody tr th:only-of-type {\n",
       "        vertical-align: middle;\n",
       "    }\n",
       "\n",
       "    .dataframe tbody tr th {\n",
       "        vertical-align: top;\n",
       "    }\n",
       "\n",
       "    .dataframe thead th {\n",
       "        text-align: right;\n",
       "    }\n",
       "</style>\n",
       "<table border=\"1\" class=\"dataframe\">\n",
       "  <thead>\n",
       "    <tr style=\"text-align: right;\">\n",
       "      <th></th>\n",
       "      <th>purchase_price</th>\n",
       "      <th>post_code</th>\n",
       "      <th>year</th>\n",
       "    </tr>\n",
       "  </thead>\n",
       "  <tbody>\n",
       "    <tr>\n",
       "      <th>0</th>\n",
       "      <td>335000</td>\n",
       "      <td>2641.0</td>\n",
       "      <td>2005</td>\n",
       "    </tr>\n",
       "    <tr>\n",
       "      <th>1</th>\n",
       "      <td>166000</td>\n",
       "      <td>2641.0</td>\n",
       "      <td>2005</td>\n",
       "    </tr>\n",
       "    <tr>\n",
       "      <th>2</th>\n",
       "      <td>245000</td>\n",
       "      <td>2640.0</td>\n",
       "      <td>2005</td>\n",
       "    </tr>\n",
       "    <tr>\n",
       "      <th>3</th>\n",
       "      <td>81000</td>\n",
       "      <td>2640.0</td>\n",
       "      <td>2005</td>\n",
       "    </tr>\n",
       "    <tr>\n",
       "      <th>4</th>\n",
       "      <td>260000</td>\n",
       "      <td>2640.0</td>\n",
       "      <td>2005</td>\n",
       "    </tr>\n",
       "  </tbody>\n",
       "</table>\n",
       "</div>"
      ],
      "text/plain": [
       "   purchase_price  post_code  year\n",
       "0          335000     2641.0  2005\n",
       "1          166000     2641.0  2005\n",
       "2          245000     2640.0  2005\n",
       "3           81000     2640.0  2005\n",
       "4          260000     2640.0  2005"
      ]
     },
     "execution_count": 20,
     "metadata": {},
     "output_type": "execute_result"
    }
   ],
   "source": [
    "df = pd.read_csv(\"../data/clean_data/full_data.csv\")\n",
    "df = df[[\"purchase_price\",\"post_code\",\"year\"]]\n",
    "df.head()"
   ]
  },
  {
   "cell_type": "code",
   "execution_count": 12,
   "metadata": {},
   "outputs": [
    {
     "name": "stdout",
     "output_type": "stream",
     "text": [
      "[2005 2019 2004 2018 2007 2002 2006 2003 2022 2016 2013 2023 2017 2012\n",
      " 2020 2008 2014 2011 2021 2009 2015 2010]\n"
     ]
    }
   ],
   "source": [
    "print(df[\"year\"].unique())"
   ]
  },
  {
   "cell_type": "code",
   "execution_count": 21,
   "metadata": {},
   "outputs": [],
   "source": [
    "grouped_df = df.groupby(['post_code',\"year\"]).agg({'purchase_price':['mean','count']}).reset_index()\n",
    "grouped_df.columns = ['post_code','year','average_price','volume']\n",
    "grouped_df['average_price']=grouped_df['average_price'].round(-3).astype(int)\n",
    "grouped_df['sector']=\"NSW\"\n",
    "for year in grouped_df['year'].unique():\n",
    "    year_df = grouped_df[grouped_df['year']==year]\n",
    "    csv_file_path = f'../data/dash_data/average_price_by_year/data_{year}.csv'\n",
    "    year_df.to_csv(csv_file_path, index=False)\n",
    "\n"
   ]
  },
  {
   "cell_type": "markdown",
   "metadata": {},
   "source": [
    "### average price delta"
   ]
  },
  {
   "cell_type": "code",
   "execution_count": 22,
   "metadata": {},
   "outputs": [
    {
     "data": {
      "text/html": [
       "<div>\n",
       "<style scoped>\n",
       "    .dataframe tbody tr th:only-of-type {\n",
       "        vertical-align: middle;\n",
       "    }\n",
       "\n",
       "    .dataframe tbody tr th {\n",
       "        vertical-align: top;\n",
       "    }\n",
       "\n",
       "    .dataframe thead th {\n",
       "        text-align: right;\n",
       "    }\n",
       "</style>\n",
       "<table border=\"1\" class=\"dataframe\">\n",
       "  <thead>\n",
       "    <tr style=\"text-align: right;\">\n",
       "      <th></th>\n",
       "      <th>post_code</th>\n",
       "      <th>year</th>\n",
       "      <th>average_price</th>\n",
       "      <th>volume</th>\n",
       "      <th>sector</th>\n",
       "      <th>delta</th>\n",
       "    </tr>\n",
       "  </thead>\n",
       "  <tbody>\n",
       "    <tr>\n",
       "      <th>0</th>\n",
       "      <td>0.0</td>\n",
       "      <td>2002</td>\n",
       "      <td>300000</td>\n",
       "      <td>1</td>\n",
       "      <td>NSW</td>\n",
       "      <td>NaN</td>\n",
       "    </tr>\n",
       "    <tr>\n",
       "      <th>1</th>\n",
       "      <td>0.0</td>\n",
       "      <td>2006</td>\n",
       "      <td>300000</td>\n",
       "      <td>2</td>\n",
       "      <td>NSW</td>\n",
       "      <td>-50.447761</td>\n",
       "    </tr>\n",
       "    <tr>\n",
       "      <th>2</th>\n",
       "      <td>0.0</td>\n",
       "      <td>2009</td>\n",
       "      <td>2000</td>\n",
       "      <td>1</td>\n",
       "      <td>NSW</td>\n",
       "      <td>NaN</td>\n",
       "    </tr>\n",
       "    <tr>\n",
       "      <th>3</th>\n",
       "      <td>0.0</td>\n",
       "      <td>2011</td>\n",
       "      <td>1000</td>\n",
       "      <td>1</td>\n",
       "      <td>NSW</td>\n",
       "      <td>-66.938776</td>\n",
       "    </tr>\n",
       "    <tr>\n",
       "      <th>4</th>\n",
       "      <td>2.0</td>\n",
       "      <td>2004</td>\n",
       "      <td>120000</td>\n",
       "      <td>1</td>\n",
       "      <td>NSW</td>\n",
       "      <td>220.987654</td>\n",
       "    </tr>\n",
       "  </tbody>\n",
       "</table>\n",
       "</div>"
      ],
      "text/plain": [
       "   post_code  year  average_price  volume sector       delta\n",
       "0        0.0  2002         300000       1    NSW         NaN\n",
       "1        0.0  2006         300000       2    NSW  -50.447761\n",
       "2        0.0  2009           2000       1    NSW         NaN\n",
       "3        0.0  2011           1000       1    NSW  -66.938776\n",
       "4        2.0  2004         120000       1    NSW  220.987654"
      ]
     },
     "execution_count": 22,
     "metadata": {},
     "output_type": "execute_result"
    }
   ],
   "source": [
    "delta_df = grouped_df.copy()\n",
    "delta_df[\"delta\"] = df.groupby(['post_code','year'])[\"purchase_price\"].pct_change()*100\n",
    "delta_df.head()\n"
   ]
  }
 ],
 "metadata": {
  "kernelspec": {
   "display_name": "venv",
   "language": "python",
   "name": "python3"
  },
  "language_info": {
   "codemirror_mode": {
    "name": "ipython",
    "version": 3
   },
   "file_extension": ".py",
   "mimetype": "text/x-python",
   "name": "python",
   "nbconvert_exporter": "python",
   "pygments_lexer": "ipython3",
   "version": "3.10.15"
  }
 },
 "nbformat": 4,
 "nbformat_minor": 2
}
