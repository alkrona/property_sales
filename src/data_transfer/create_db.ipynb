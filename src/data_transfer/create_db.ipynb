{
 "cells": [
  {
   "cell_type": "code",
   "execution_count": 3,
   "metadata": {},
   "outputs": [
    {
     "ename": "OperationalError",
     "evalue": "('HYT00', '[HYT00] [Microsoft][ODBC Driver 18 for SQL Server]Login timeout expired (0) (SQLDriverConnect)')",
     "output_type": "error",
     "traceback": [
      "\u001b[0;31m---------------------------------------------------------------------------\u001b[0m",
      "\u001b[0;31mOperationalError\u001b[0m                          Traceback (most recent call last)",
      "Cell \u001b[0;32mIn[3], line 8\u001b[0m\n\u001b[1;32m      6\u001b[0m driver\u001b[38;5;241m=\u001b[39m \u001b[38;5;124m'\u001b[39m\u001b[38;5;124m{\u001b[39m\u001b[38;5;124mODBC Driver 18 for SQL Server}\u001b[39m\u001b[38;5;124m'\u001b[39m\n\u001b[1;32m      7\u001b[0m connectionString \u001b[38;5;241m=\u001b[39m \u001b[38;5;124mf\u001b[39m\u001b[38;5;124m'\u001b[39m\u001b[38;5;124mDRIVER=\u001b[39m\u001b[38;5;130;01m{{\u001b[39;00m\u001b[38;5;124mODBC Driver 18 for SQL Server\u001b[39m\u001b[38;5;130;01m}}\u001b[39;00m\u001b[38;5;124m;SERVER=\u001b[39m\u001b[38;5;132;01m{\u001b[39;00mSERVER\u001b[38;5;132;01m}\u001b[39;00m\u001b[38;5;124m;DATABASE=\u001b[39m\u001b[38;5;132;01m{\u001b[39;00mDATABASE\u001b[38;5;132;01m}\u001b[39;00m\u001b[38;5;124m;UID=\u001b[39m\u001b[38;5;132;01m{\u001b[39;00mUSERNAME\u001b[38;5;132;01m}\u001b[39;00m\u001b[38;5;124m;PWD=\u001b[39m\u001b[38;5;132;01m{\u001b[39;00mPASSWORD\u001b[38;5;132;01m}\u001b[39;00m\u001b[38;5;124m'\u001b[39m\n\u001b[0;32m----> 8\u001b[0m conn \u001b[38;5;241m=\u001b[39m \u001b[43mpyodbc\u001b[49m\u001b[38;5;241;43m.\u001b[39;49m\u001b[43mconnect\u001b[49m\u001b[43m(\u001b[49m\u001b[43mconnectionString\u001b[49m\u001b[43m)\u001b[49m    \n\u001b[1;32m      9\u001b[0m \u001b[38;5;28;01mwith\u001b[39;00m conn\u001b[38;5;241m.\u001b[39mcursor() \u001b[38;5;28;01mas\u001b[39;00m cursor:\n\u001b[1;32m     10\u001b[0m         cursor\u001b[38;5;241m.\u001b[39mexecute(\u001b[38;5;124m\"\u001b[39m\u001b[38;5;124mSELECT TOP 3 name, collation_name FROM sys.databases\u001b[39m\u001b[38;5;124m\"\u001b[39m)\n",
      "\u001b[0;31mOperationalError\u001b[0m: ('HYT00', '[HYT00] [Microsoft][ODBC Driver 18 for SQL Server]Login timeout expired (0) (SQLDriverConnect)')"
     ]
    }
   ],
   "source": [
    "import pyodbc\n",
    "SERVER = '<property_sales>.database.windows.net'\n",
    "DATABASE = 'property_sales'\n",
    "USERNAME = 'root_kiran'\n",
    "PASSWORD = 'qidvin-1cUpny-mupzuv'\n",
    "driver= '{ODBC Driver 18 for SQL Server}'\n",
    "connectionString = f'DRIVER={{ODBC Driver 18 for SQL Server}};SERVER={SERVER};DATABASE={DATABASE};UID={USERNAME};PWD={PASSWORD}'\n",
    "conn = pyodbc.connect(connectionString)    \n",
    "with conn.cursor() as cursor:\n",
    "        cursor.execute(\"SELECT TOP 3 name, collation_name FROM sys.databases\")\n",
    "        row = cursor.fetchone()\n",
    "        while row:\n",
    "            print (str(row[0]) + \" \" + str(row[1]))\n",
    "            row = cursor.fetchone()"
   ]
  }
 ],
 "metadata": {
  "kernelspec": {
   "display_name": "venv",
   "language": "python",
   "name": "python3"
  },
  "language_info": {
   "codemirror_mode": {
    "name": "ipython",
    "version": 3
   },
   "file_extension": ".py",
   "mimetype": "text/x-python",
   "name": "python",
   "nbconvert_exporter": "python",
   "pygments_lexer": "ipython3",
   "version": "3.10.15"
  }
 },
 "nbformat": 4,
 "nbformat_minor": 2
}
